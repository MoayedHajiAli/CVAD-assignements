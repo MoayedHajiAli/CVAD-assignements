{
  "cells": [
    {
      "cell_type": "markdown",
      "metadata": {
        "id": "NGI84rsSoYvC"
      },
      "source": [
        "# Flow Estimation\n",
        "\n",
        "If you are running on Colab,\n",
        "* Go to runtime -> change runtime type -> select \"GPU\" as the hardware accelerator. "
      ]
    },
    {
      "cell_type": "markdown",
      "metadata": {
        "id": "tNfFwd7nvrm-"
      },
      "source": [
        "## Having Fun with Optical Flow"
      ]
    },
    {
      "cell_type": "markdown",
      "metadata": {
        "id": "oCg1vNqAo9WJ"
      },
      "source": [
        "### ARFlow\n",
        "\n",
        "Download the code for ARFlow from this link and install the requirements as recommended: https://github.com/lliuz/ARFlow\n",
        "\n",
        "Make sure that you can run the inference.py without a problem before the next part."
      ]
    },
    {
      "cell_type": "markdown",
      "metadata": {
        "id": "vcS-C-hZtF-b"
      },
      "source": [
        "If you could not install ARFlow on your local machine, you can follow these steps either on Colab or on your own machine to make it work:"
      ]
    },
    {
      "cell_type": "markdown",
      "metadata": {
        "id": "So8ON92XtF-c"
      },
      "source": [
        "Download the repository:"
      ]
    },
    {
      "cell_type": "code",
      "execution_count": 2,
      "metadata": {
        "colab": {
          "base_uri": "https://localhost:8080/"
        },
        "id": "hjJ8jFwFtF-d",
        "outputId": "b8d771cd-7710-4b16-e129-8abac0258365"
      },
      "outputs": [
        {
          "output_type": "stream",
          "name": "stdout",
          "text": [
            "--2022-06-08 14:25:54--  https://github.com/lliuz/ARFlow/archive/master.zip\n",
            "Resolving github.com (github.com)... 140.82.113.3\n",
            "Connecting to github.com (github.com)|140.82.113.3|:443... connected.\n",
            "HTTP request sent, awaiting response... 302 Found\n",
            "Location: https://codeload.github.com/lliuz/ARFlow/zip/refs/heads/master [following]\n",
            "--2022-06-08 14:25:54--  https://codeload.github.com/lliuz/ARFlow/zip/refs/heads/master\n",
            "Resolving codeload.github.com (codeload.github.com)... 140.82.114.9\n",
            "Connecting to codeload.github.com (codeload.github.com)|140.82.114.9|:443... connected.\n",
            "HTTP request sent, awaiting response... 200 OK\n",
            "Length: unspecified [application/zip]\n",
            "Saving to: ‘master.zip’\n",
            "\n",
            "master.zip              [            <=>     ]  75.68M  14.9MB/s    in 5.1s    \n",
            "\n",
            "2022-06-08 14:25:59 (14.9 MB/s) - ‘master.zip’ saved [79359531]\n",
            "\n"
          ]
        }
      ],
      "source": [
        "!wget https://github.com/lliuz/ARFlow/archive/master.zip"
      ]
    },
    {
      "cell_type": "markdown",
      "metadata": {
        "id": "ITcdKDivtF-d"
      },
      "source": [
        "Unzip the repository:"
      ]
    },
    {
      "cell_type": "code",
      "execution_count": 3,
      "metadata": {
        "colab": {
          "base_uri": "https://localhost:8080/"
        },
        "id": "4Ffe5eUatF-e",
        "outputId": "9364e7f6-39f8-4cc3-8ded-c7d6aa5ce645"
      },
      "outputs": [
        {
          "output_type": "stream",
          "name": "stdout",
          "text": [
            "Archive:  master.zip\n",
            "e92a8bbe66f0ced244267f43e3e55ad0fe46ff3e\n",
            "   creating: ARFlow-master/\n",
            " extracting: ARFlow-master/.gitignore  \n",
            "  inflating: ARFlow-master/Dockerfile  \n",
            "  inflating: ARFlow-master/LICENSE   \n",
            "  inflating: ARFlow-master/README.md  \n",
            "  inflating: ARFlow-master/basic_train.py  \n",
            "   creating: ARFlow-master/checkpoints/\n",
            "   creating: ARFlow-master/checkpoints/CityScapes/\n",
            "  inflating: ARFlow-master/checkpoints/CityScapes/pwclite_ar.tar  \n",
            "   creating: ARFlow-master/checkpoints/KITTI12/\n",
            "  inflating: ARFlow-master/checkpoints/KITTI12/pwclite_ar.tar  \n",
            "  inflating: ARFlow-master/checkpoints/KITTI12/pwclite_ar_mv.tar  \n",
            "   creating: ARFlow-master/checkpoints/KITTI15/\n",
            "  inflating: ARFlow-master/checkpoints/KITTI15/pwclite_ar.tar  \n",
            "  inflating: ARFlow-master/checkpoints/KITTI15/pwclite_ar_mv.tar  \n",
            "  inflating: ARFlow-master/checkpoints/KITTI15/pwclite_raw.tar  \n",
            "   creating: ARFlow-master/checkpoints/Sintel/\n",
            "  inflating: ARFlow-master/checkpoints/Sintel/pwclite_ar.tar  \n",
            "  inflating: ARFlow-master/checkpoints/Sintel/pwclite_ar_mv.tar  \n",
            "  inflating: ARFlow-master/checkpoints/Sintel/pwclite_raw.tar  \n",
            "   creating: ARFlow-master/configs/\n",
            "  inflating: ARFlow-master/configs/kitti15_ft.json  \n",
            "  inflating: ARFlow-master/configs/kitti15_ft_ar.json  \n",
            "  inflating: ARFlow-master/configs/kitti_raw.json  \n",
            "  inflating: ARFlow-master/configs/sintel_ft.json  \n",
            "  inflating: ARFlow-master/configs/sintel_ft_ar.json  \n",
            "  inflating: ARFlow-master/configs/sintel_raw.json  \n",
            "   creating: ARFlow-master/datasets/\n",
            "  inflating: ARFlow-master/datasets/flow_datasets.py  \n",
            "  inflating: ARFlow-master/datasets/get_dataset.py  \n",
            "  inflating: ARFlow-master/datasets/kitti_train_2f_sv.txt  \n",
            "   creating: ARFlow-master/examples/\n",
            "  inflating: ARFlow-master/examples/img0.png  \n",
            "  inflating: ARFlow-master/examples/img1.png  \n",
            "  inflating: ARFlow-master/examples/img2.png  \n",
            "  inflating: ARFlow-master/inference.py  \n",
            "  inflating: ARFlow-master/logger.py  \n",
            "   creating: ARFlow-master/losses/\n",
            "  inflating: ARFlow-master/losses/flow_loss.py  \n",
            "  inflating: ARFlow-master/losses/get_loss.py  \n",
            "  inflating: ARFlow-master/losses/loss_blocks.py  \n",
            "   creating: ARFlow-master/models/\n",
            "  inflating: ARFlow-master/models/correlation_native.py  \n",
            "   creating: ARFlow-master/models/correlation_package/\n",
            " extracting: ARFlow-master/models/correlation_package/__init__.py  \n",
            "  inflating: ARFlow-master/models/correlation_package/correlation.py  \n",
            "  inflating: ARFlow-master/models/correlation_package/correlation_cuda.cc  \n",
            "  inflating: ARFlow-master/models/correlation_package/correlation_cuda_kernel.cu  \n",
            "  inflating: ARFlow-master/models/correlation_package/correlation_cuda_kernel.cuh  \n",
            "  inflating: ARFlow-master/models/correlation_package/setup.py  \n",
            "  inflating: ARFlow-master/models/get_model.py  \n",
            "  inflating: ARFlow-master/models/pwclite.py  \n",
            "  inflating: ARFlow-master/requirements.txt  \n",
            "  inflating: ARFlow-master/train.py  \n",
            "   creating: ARFlow-master/trainer/\n",
            "  inflating: ARFlow-master/trainer/base_trainer.py  \n",
            "  inflating: ARFlow-master/trainer/get_trainer.py  \n",
            "  inflating: ARFlow-master/trainer/kitti_trainer.py  \n",
            "  inflating: ARFlow-master/trainer/kitti_trainer_ar.py  \n",
            "  inflating: ARFlow-master/trainer/sintel_trainer.py  \n",
            "  inflating: ARFlow-master/trainer/sintel_trainer_ar.py  \n",
            "   creating: ARFlow-master/transforms/\n",
            "   creating: ARFlow-master/transforms/ar_transforms/\n",
            "  inflating: ARFlow-master/transforms/ar_transforms/ap_transforms.py  \n",
            "  inflating: ARFlow-master/transforms/ar_transforms/interpolation.py  \n",
            "  inflating: ARFlow-master/transforms/ar_transforms/oc_transforms.py  \n",
            "  inflating: ARFlow-master/transforms/ar_transforms/sp_transfroms.py  \n",
            "  inflating: ARFlow-master/transforms/co_transforms.py  \n",
            "  inflating: ARFlow-master/transforms/sep_transforms.py  \n",
            "   creating: ARFlow-master/utils/\n",
            "  inflating: ARFlow-master/utils/flow_utils.py  \n",
            "  inflating: ARFlow-master/utils/misc_utils.py  \n",
            "  inflating: ARFlow-master/utils/torch_utils.py  \n",
            "  inflating: ARFlow-master/utils/warp_utils.py  \n"
          ]
        }
      ],
      "source": [
        "!unzip master.zip"
      ]
    },
    {
      "cell_type": "markdown",
      "metadata": {
        "id": "DkKNSHwQtF-f"
      },
      "source": [
        "Navigate to the repository:"
      ]
    },
    {
      "cell_type": "code",
      "execution_count": 2,
      "metadata": {
        "colab": {
          "base_uri": "https://localhost:8080/"
        },
        "id": "WDC2a_QPtF-f",
        "outputId": "d9c90a4f-1c9f-4321-b6bb-551d12c4e8fb"
      },
      "outputs": [
        {
          "output_type": "stream",
          "name": "stdout",
          "text": [
            "/content/ARFlow-master\n"
          ]
        }
      ],
      "source": [
        "cd ARFlow-master/"
      ]
    },
    {
      "cell_type": "markdown",
      "metadata": {
        "id": "TeSeKNkltF-f"
      },
      "source": [
        "From the menu on the left, open `models/pwclite.py` file, comment the 6th line and uncomment the 7th line.\n",
        "Then, **if you are using Colab you should not run the next cell**. but if you are on your local machine, install the requirements:"
      ]
    },
    {
      "cell_type": "code",
      "execution_count": null,
      "metadata": {
        "id": "JZAgw4RetF-g"
      },
      "outputs": [],
      "source": [
        "# !pip3 install -r requirements.txt"
      ]
    },
    {
      "cell_type": "markdown",
      "metadata": {
        "id": "nv8Yp4tytF-g"
      },
      "source": [
        "Now you should be able to run the following:"
      ]
    },
    {
      "cell_type": "code",
      "execution_count": null,
      "metadata": {
        "id": "JIUfx0-dtF-h",
        "outputId": "ffa59ccd-a00f-4181-ea5b-44ef0b324088"
      },
      "outputs": [
        {
          "name": "stdout",
          "output_type": "stream",
          "text": [
            "/Users/moayedhajiali/Desktop/Courses/CVAD/HW3/src/flow\n"
          ]
        }
      ],
      "source": [
        "!pwd"
      ]
    },
    {
      "cell_type": "code",
      "execution_count": 57,
      "metadata": {
        "colab": {
          "base_uri": "https://localhost:8080/",
          "height": 170
        },
        "id": "gloaw8JntF-i",
        "outputId": "81a34fa7-31ed-4132-dc1a-68b571790e1e"
      },
      "outputs": [
        {
          "output_type": "stream",
          "name": "stdout",
          "text": [
            "examples/flow.npy\n"
          ]
        },
        {
          "output_type": "display_data",
          "data": {
            "text/plain": [
              "<Figure size 432x288 with 1 Axes>"
            ],
            "image/png": "[encoded data removed]"
          },
          "metadata": {
            "needs_background": "light"
          }
        }
      ],
      "source": [
        "%run inference.py -m checkpoints/KITTI15/pwclite_ar.tar -s 384 640  --dest examples/flow.npy -i examples/img1.png examples/img2.png "
      ]
    },
    {
      "cell_type": "markdown",
      "metadata": {
        "id": "ygmyOnNwtF-j"
      },
      "source": [
        "### Bullet Time Effect\n",
        "\n",
        "In this question, you will estimate optical flow using ARFlow (or you can use some other flow method if you cannot make it work) and then use it to interpolate between two images. \n",
        "\n",
        "First, calculate the optical flow between two images, e.g. provided KITTI images in the example folder, using the ARFlow as illustrated by the example in inference.py. \n",
        "Then, synthesize 10 novel frames between the two images using linear interpolation. \n",
        "\n",
        "**Hint:** First, compute the flow and then divide it by the number of frames. Then, at each step, warp the image incrementally to obtain images in between. You can use OpenCV's `remap()` function for warping or have a look at the `flow_warp` in utils/warp_utils.py file of the ARFlow.\n",
        "\n",
        "* Where does the interpolation work well and where does it fail? \n",
        "* Please also hand-in your interpolated images or create a small movie.\n"
      ]
    },
    {
      "cell_type": "code",
      "source": [
        "# load images\n",
        "from PIL import Image\n",
        "img1 = Image.open('examples/img1.png')\n",
        "img2 = Image.open('examples/img2.png')\n",
        "display(img1)\n",
        "display(img2)"
      ],
      "metadata": {
        "colab": {
          "base_uri": "https://localhost:8080/",
          "height": 351
        },
        "id": "jW4m3lZYt87m",
        "outputId": "ba1d5f3f-9a3d-4fce-eb3c-bf7ea52314c4"
      },
      "execution_count": 1,
      "outputs": [
        {
          "output_type": "error",
          "ename": "FileNotFoundError",
          "evalue": "ignored",
          "traceback": [
            "\u001b[0;31m---------------------------------------------------------------------------\u001b[0m",
            "\u001b[0;31mFileNotFoundError\u001b[0m                         Traceback (most recent call last)",
            "\u001b[0;32m<ipython-input-1-6668e304b229>\u001b[0m in \u001b[0;36m<module>\u001b[0;34m()\u001b[0m\n\u001b[1;32m      1\u001b[0m \u001b[0;31m# load images\u001b[0m\u001b[0;34m\u001b[0m\u001b[0;34m\u001b[0m\u001b[0;34m\u001b[0m\u001b[0m\n\u001b[1;32m      2\u001b[0m \u001b[0;32mfrom\u001b[0m \u001b[0mPIL\u001b[0m \u001b[0;32mimport\u001b[0m \u001b[0mImage\u001b[0m\u001b[0;34m\u001b[0m\u001b[0;34m\u001b[0m\u001b[0m\n\u001b[0;32m----> 3\u001b[0;31m \u001b[0mimg1\u001b[0m \u001b[0;34m=\u001b[0m \u001b[0mImage\u001b[0m\u001b[0;34m.\u001b[0m\u001b[0mopen\u001b[0m\u001b[0;34m(\u001b[0m\u001b[0;34m'examples/img1.png'\u001b[0m\u001b[0;34m)\u001b[0m\u001b[0;34m\u001b[0m\u001b[0;34m\u001b[0m\u001b[0m\n\u001b[0m\u001b[1;32m      4\u001b[0m \u001b[0mimg2\u001b[0m \u001b[0;34m=\u001b[0m \u001b[0mImage\u001b[0m\u001b[0;34m.\u001b[0m\u001b[0mopen\u001b[0m\u001b[0;34m(\u001b[0m\u001b[0;34m'examples/img2.png'\u001b[0m\u001b[0;34m)\u001b[0m\u001b[0;34m\u001b[0m\u001b[0;34m\u001b[0m\u001b[0m\n\u001b[1;32m      5\u001b[0m \u001b[0mdisplay\u001b[0m\u001b[0;34m(\u001b[0m\u001b[0mimg1\u001b[0m\u001b[0;34m)\u001b[0m\u001b[0;34m\u001b[0m\u001b[0;34m\u001b[0m\u001b[0m\n",
            "\u001b[0;32m/usr/local/lib/python3.7/dist-packages/PIL/Image.py\u001b[0m in \u001b[0;36mopen\u001b[0;34m(fp, mode)\u001b[0m\n\u001b[1;32m   2841\u001b[0m \u001b[0;34m\u001b[0m\u001b[0m\n\u001b[1;32m   2842\u001b[0m     \u001b[0;32mif\u001b[0m \u001b[0mfilename\u001b[0m\u001b[0;34m:\u001b[0m\u001b[0;34m\u001b[0m\u001b[0;34m\u001b[0m\u001b[0m\n\u001b[0;32m-> 2843\u001b[0;31m         \u001b[0mfp\u001b[0m \u001b[0;34m=\u001b[0m \u001b[0mbuiltins\u001b[0m\u001b[0;34m.\u001b[0m\u001b[0mopen\u001b[0m\u001b[0;34m(\u001b[0m\u001b[0mfilename\u001b[0m\u001b[0;34m,\u001b[0m \u001b[0;34m\"rb\"\u001b[0m\u001b[0;34m)\u001b[0m\u001b[0;34m\u001b[0m\u001b[0;34m\u001b[0m\u001b[0m\n\u001b[0m\u001b[1;32m   2844\u001b[0m         \u001b[0mexclusive_fp\u001b[0m \u001b[0;34m=\u001b[0m \u001b[0;32mTrue\u001b[0m\u001b[0;34m\u001b[0m\u001b[0;34m\u001b[0m\u001b[0m\n\u001b[1;32m   2845\u001b[0m \u001b[0;34m\u001b[0m\u001b[0m\n",
            "\u001b[0;31mFileNotFoundError\u001b[0m: [Errno 2] No such file or directory: 'examples/img1.png'"
          ]
        }
      ]
    },
    {
      "cell_type": "code",
      "source": [
        "# load optical flow\n",
        "import numpy as np\n",
        "optical_flow = np.load('examples/flow.npy')\n",
        "optical_flow = torch.Tensor(optical_flow).permute(2, 0, 1).unsqueeze(0)\n",
        "optical_flow.shape"
      ],
      "metadata": {
        "colab": {
          "base_uri": "https://localhost:8080/"
        },
        "id": "H4wvTLxhuZkl",
        "outputId": "0fd30268-9730-487e-e09c-e9e9549da221"
      },
      "execution_count": 59,
      "outputs": [
        {
          "output_type": "execute_result",
          "data": {
            "text/plain": [
              "torch.Size([1, 2, 375, 1242])"
            ]
          },
          "metadata": {},
          "execution_count": 59
        }
      ]
    },
    {
      "cell_type": "code",
      "source": [
        "import torch\n",
        "from torchvision import transforms\n",
        "transform = transforms.Compose([transforms.ToTensor()])\n",
        "x = transform(img1).unsqueeze(0)\n",
        "x.shape"
      ],
      "metadata": {
        "colab": {
          "base_uri": "https://localhost:8080/"
        },
        "id": "sG7I8CnnyZ41",
        "outputId": "ffba9188-fbeb-4603-d5ca-df4ec6c58700"
      },
      "execution_count": 67,
      "outputs": [
        {
          "output_type": "execute_result",
          "data": {
            "text/plain": [
              "torch.Size([1, 3, 375, 1242])"
            ]
          },
          "metadata": {},
          "execution_count": 67
        }
      ]
    },
    {
      "cell_type": "code",
      "source": [
        "# create frames with optical flow \n",
        "from utils.warp_utils import flow_warp\n",
        "n_frames = 10\n",
        "save_dir = 'video'\n",
        "images = [img1]\n",
        "img1.save(f'{save_dir}/img_{0}.png')\n",
        "for i in range (1, n_frames-1):\n",
        "  grid = flow_warp(x, - optical_flow * (i / n_frames))[0]\n",
        "  grid = grid.transpose(0,1).transpose(1,2).squeeze(-1)\n",
        "  grid = grid.numpy()\n",
        "  grid = (grid*255).astype(np.uint8)\n",
        "  img = Image.fromarray(grid)\n",
        "  img.save(f'{save_dir}/img_{i}.png')\n",
        "  images.append(img)\n",
        "img2.save(f'{save_dir}/img_{n_frames-1}.png')\n",
        "images.append(img2)"
      ],
      "metadata": {
        "id": "s6hRSVbHvf0l"
      },
      "execution_count": 68,
      "outputs": []
    },
    {
      "cell_type": "code",
      "source": [
        "import os \n",
        "os.system(f\"ffmpeg -r 1 -i {save_dir}/img_%01d.png -vcodec mpeg4 -y {save_dir}/movie.mp4\")"
      ],
      "metadata": {
        "colab": {
          "base_uri": "https://localhost:8080/"
        },
        "id": "iMRDwNtR1p_a",
        "outputId": "f62da4a5-cf8f-4378-d6f8-7543e57e313b"
      },
      "execution_count": 69,
      "outputs": [
        {
          "output_type": "execute_result",
          "data": {
            "text/plain": [
              "0"
            ]
          },
          "metadata": {},
          "execution_count": 69
        }
      ]
    },
    {
      "cell_type": "markdown",
      "metadata": {
        "id": "cWgiTLsTtF-k"
      },
      "source": [
        "### Multi-frame Bullet Time Sequence (Optional)\n",
        "\n",
        "If you had fun with the previous question, you might want to extend this effect to several frames as in the original Matrix movie! \n",
        "\n",
        "Use consecutive images or capture several images along a smooth camera trajectory and smoothly vary the pose of the objects in between. \n",
        "\n",
        "Between each two adjacent frames, interpolate an additional 10 to 100 frames and concatenate all images to one long slow motion video sequence."
      ]
    },
    {
      "cell_type": "code",
      "source": [
        "from utils.warp_utils import flow_warp\n",
        "import torch\n",
        "from torchvision import transforms\n",
        "import numpy as np\n",
        "transform = transforms.Compose([transforms.ToTensor()])"
      ],
      "metadata": {
        "id": "VmWDh9u8JBzR"
      },
      "execution_count": 7,
      "outputs": []
    },
    {
      "cell_type": "code",
      "source": [
        "# get all images in frames \n",
        "import glob\n",
        "imgs_paths = glob.glob(\"frames2/*.png\")\n",
        "imgs_paths = sorted(imgs_paths)\n",
        "imgs_paths"
      ],
      "metadata": {
        "colab": {
          "base_uri": "https://localhost:8080/"
        },
        "id": "fxGYb0cM4R6K",
        "outputId": "765a2c9b-00a7-4d43-e0d2-e02e4c37cd09"
      },
      "execution_count": 8,
      "outputs": [
        {
          "output_type": "execute_result",
          "data": {
            "text/plain": [
              "['frames2/0000000000.png',\n",
              " 'frames2/0000000001.png',\n",
              " 'frames2/0000000002.png',\n",
              " 'frames2/0000000003.png',\n",
              " 'frames2/0000000004.png',\n",
              " 'frames2/0000000005.png',\n",
              " 'frames2/0000000006.png',\n",
              " 'frames2/0000000007.png']"
            ]
          },
          "metadata": {},
          "execution_count": 8
        }
      ]
    },
    {
      "cell_type": "code",
      "source": [
        "import os\n",
        "inter_frames = 30\n",
        "save_dir = 'final_video'\n",
        "transform = transforms.Compose([transforms.ToTensor()])\n",
        "\n",
        "# prepare input\n",
        "x, flows = [], []\n",
        "for (path1, path2) in zip(imgs_paths[:-1], imgs_paths[1:]):\n",
        "  # extract optical flow \n",
        "  os.system(f\"inference.py -m checkpoints/KITTI15/pwclite_ar.tar -s 384 640  --dest examples/flow.npy -i {path1} {path2}\")\n",
        "\n",
        "  optical_flow = np.load('examples/flow.npy')\n",
        "  optical_flow = torch.Tensor(optical_flow).permute(2, 0, 1)\n",
        "  # load two images\n",
        "  img = Image.open(path1)\n",
        "  print(img.size, optical_flow.shape)\n",
        "\n",
        "  tmp = transform(img)\n",
        "  for i in range(0, inter_frames):\n",
        "    flows.append(-optical_flow * (i / inter_frames))\n",
        "    x.append(tmp)\n",
        "\n",
        "\n",
        "x = torch.stack(x)\n",
        "flows = torch.stack(flows)\n",
        "grids = flow_warp(x, flows)\n",
        "print(grids.shape)\n",
        "grids = grids.permute(0, 2, 3, 1)\n",
        "grids = grids.numpy()\n",
        "grids = (grids*255).astype(np.uint8)\n",
        "\n",
        "# save images\n",
        "\n",
        "for i, grid in enumerate(grids):\n",
        "  img = Image.fromarray(grid[:, :, 0])\n",
        "  img.save(f'{save_dir}/img_{i+1:03d}.png')"
      ],
      "metadata": {
        "colab": {
          "base_uri": "https://localhost:8080/"
        },
        "id": "1MKPELbc8nPx",
        "outputId": "82b5cc53-7705-4b02-9ff7-d517477f8291"
      },
      "execution_count": 11,
      "outputs": [
        {
          "output_type": "stream",
          "name": "stdout",
          "text": [
            "(1242, 375) torch.Size([2, 375, 1242])\n",
            "(1242, 375) torch.Size([2, 375, 1242])\n",
            "(1242, 375) torch.Size([2, 375, 1242])\n",
            "(1242, 375) torch.Size([2, 375, 1242])\n",
            "(1242, 375) torch.Size([2, 375, 1242])\n",
            "(1242, 375) torch.Size([2, 375, 1242])\n",
            "(1242, 375) torch.Size([2, 375, 1242])\n",
            "torch.Size([210, 1, 375, 1242])\n"
          ]
        }
      ]
    },
    {
      "cell_type": "code",
      "source": [
        "import os \n",
        "os.system(f\"ffmpeg -r 25 -i {save_dir}/img_%03d.png -vcodec mpeg4 -y {save_dir}/slow_mo.mp4\")"
      ],
      "metadata": {
        "colab": {
          "base_uri": "https://localhost:8080/"
        },
        "id": "3FNsBMIhAZM7",
        "outputId": "9265d928-cc31-401c-bc8b-be134a6a925a"
      },
      "execution_count": 12,
      "outputs": [
        {
          "output_type": "execute_result",
          "data": {
            "text/plain": [
              "0"
            ]
          },
          "metadata": {},
          "execution_count": 12
        }
      ]
    },
    {
      "cell_type": "code",
      "source": [
        ""
      ],
      "metadata": {
        "id": "BB01gyinGBWg"
      },
      "execution_count": null,
      "outputs": []
    }
  ],
  "metadata": {
    "accelerator": "GPU",
    "colab": {
      "collapsed_sections": [],
      "name": "flow.ipynb",
      "provenance": []
    },
    "interpreter": {
      "hash": "e198f1908a66dd117225439470da3cff30e078829bae2c870af17bad0faadbc1"
    },
    "kernelspec": {
      "display_name": "Python 3.7.10 ('comp411')",
      "language": "python",
      "name": "python3"
    },
    "language_info": {
      "codemirror_mode": {
        "name": "ipython",
        "version": 3
      },
      "file_extension": ".py",
      "mimetype": "text/x-python",
      "name": "python",
      "nbconvert_exporter": "python",
      "pygments_lexer": "ipython3",
      "version": "3.7.10"
    }
  },
  "nbformat": 4,
  "nbformat_minor": 0
}